{
  "nbformat": 4,
  "nbformat_minor": 0,
  "metadata": {
    "colab": {
      "provenance": []
    },
    "kernelspec": {
      "name": "python3",
      "display_name": "Python 3"
    },
    "language_info": {
      "name": "python"
    }
  },
  "cells": [
    {
      "cell_type": "code",
      "source": [
        "import pandas as pd\n",
        "from sklearn.model_selection import train_test_split\n",
        "from sklearn.ensemble import RandomForestClassifier\n",
        "from sklearn.metrics import accuracy_score, classification_report\n",
        "\n",
        "df = pd.read_csv('/content/network_data.csv')\n",
        "\n",
        "# Assigning features and target variables\n",
        "X = df.iloc[:, :-1]\n",
        "y = df.iloc[:, -1]\n",
        "\n",
        "# Split dataset into training and testing set\n",
        "X_train, X_test, y_train, y_test = train_test_split(X, y, test_size=0.2, random_state=42)\n",
        "\n",
        "# Initializing the classifier\n",
        "rf_model = RandomForestClassifier(n_estimators=100, random_state=42)\n",
        "\n",
        "# Training and testing the model\n",
        "rf_model.fit(X_train, y_train)\n",
        "y_pred = rf_model.predict(X_test)\n",
        "\n",
        "# Evaluating the model\n",
        "accuracy = accuracy_score(y_test, y_pred)\n",
        "\n",
        "print(\"Accuracy:\", accuracy)\n",
        "\n",
        "\n"
      ],
      "metadata": {
        "colab": {
          "base_uri": "https://localhost:8080/"
        },
        "id": "FwW53UsdNy_m",
        "outputId": "e47d2a1d-710d-4752-a17b-76dd02f2c0f1"
      },
      "execution_count": null,
      "outputs": [
        {
          "output_type": "stream",
          "name": "stdout",
          "text": [
            "Accuracy: 0.935\n"
          ]
        }
      ]
    },
    {
      "cell_type": "code",
      "source": [
        "import os, secrets\n",
        "from cryptography.hazmat.primitives.ciphers import Cipher, algorithms, modes\n",
        "from cryptography.hazmat.primitives import padding\n",
        "from cryptography.hazmat.backends import default_backend\n",
        "from cryptography.hazmat.primitives.kdf.pbkdf2 import PBKDF2HMAC\n",
        "from cryptography.hazmat.primitives import hashes\n",
        "\n",
        "\n",
        "# Defining the standard AES encryption algorithm\n",
        "class AES:\n",
        "    @staticmethod\n",
        "\n",
        "    # Standard encryption with CBC mode where we are padding the message to ensure its length is a multiple of the block size\n",
        "    def encrypt(message, key, iv):\n",
        "        cipher = Cipher(algorithms.AES(key), modes.CBC(iv), backend=default_backend())\n",
        "        encryptor = cipher.encryptor()\n",
        "        padder = padding.PKCS7(128).padder()\n",
        "        padded_data = padder.update(message) + padder.finalize()\n",
        "        ciphertext = encryptor.update(padded_data) + encryptor.finalize()\n",
        "        return ciphertext\n",
        "\n",
        "    @staticmethod\n",
        "    # Standard decryption with AES-CBC\n",
        "    def decrypt(ciphertext, key, iv):\n",
        "        cipher = Cipher(algorithms.AES(key), modes.CBC(iv), backend=default_backend())\n",
        "        decryptor = cipher.decryptor()\n",
        "        unpadder = padding.PKCS7(128).unpadder()\n",
        "        decrypted_padded = decryptor.update(ciphertext) + decryptor.finalize()\n",
        "        plaintext = unpadder.update(decrypted_padded) + unpadder.finalize()\n",
        "        return plaintext\n",
        "\n",
        "\n",
        "# Defining our Dynamic Encryption Algorithm\n",
        "class DynamicEncryption:\n",
        "    @staticmethod\n",
        "    def encrypt(message, key, iv, dynamic_encryption):\n",
        "        if dynamic_encryption:\n",
        "          salt = os.urandom(16)\n",
        "\n",
        "          # Using PBKDF2HMAC algorithm to strech our key using salt\n",
        "          kdf = PBKDF2HMAC(\n",
        "                algorithm=hashes.SHA256(),\n",
        "                length=32,\n",
        "                salt=salt,\n",
        "                iterations=100000,\n",
        "                backend=default_backend()\n",
        "            )\n",
        "\n",
        "          # Deriving new a key from the original key and salt\n",
        "          derived_key = kdf.derive(key)\n",
        "\n",
        "          # Adding random padding to the message\n",
        "          padding_length = secrets.randbelow(16) + 1\n",
        "          padded_message = message + os.urandom(padding_length) + bytes([padding_length])\n",
        "\n",
        "\n",
        "          # Using GCM mode to encrypt\n",
        "          cipher = Cipher(algorithms.AES(derived_key), modes.GCM(iv), backend=default_backend())\n",
        "          encryptor = cipher.encryptor()\n",
        "          ciphertext = encryptor.update(padded_message) + encryptor.finalize()\n",
        "\n",
        "          return ciphertext, encryptor.tag, padding_length, salt\n",
        "\n",
        "        else:\n",
        "            return AES.encrypt(message, key, iv), None, None, None\n",
        "\n",
        "\n",
        "    # Decrypting the plaintext\n",
        "    @staticmethod\n",
        "    def decrypt(ciphertext, key, iv, dynamic_encryption, tag=None, padding_length=None, salt = None):\n",
        "        if dynamic_encryption and salt is not None:\n",
        "            kdf = PBKDF2HMAC(\n",
        "                algorithm=hashes.SHA256(),\n",
        "                length=32,\n",
        "                salt=salt,\n",
        "                iterations=100000,\n",
        "                backend=default_backend()\n",
        "            )\n",
        "            derived_key = kdf.derive(key)\n",
        "            cipher = Cipher(algorithms.AES(derived_key), modes.GCM(iv, tag), backend=default_backend())\n",
        "            decryptor = cipher.decryptor()\n",
        "            decrypted_padded = decryptor.update(ciphertext) + decryptor.finalize()\n",
        "            plaintext = decrypted_padded[:-padding_length-1]\n",
        "            return plaintext\n",
        "        else:\n",
        "            return AES.decrypt(ciphertext, key, iv)\n",
        "\n",
        "def encryption_system(network_metrics, rf_model):\n",
        "    #Determining the network status\n",
        "    network_status = rf_model.predict([network_metrics])[0]\n",
        "\n",
        "    user_input = input(\"Enter your message for encryption: \")\n",
        "    message = user_input.encode()\n",
        "\n",
        "    # Generating a random key\n",
        "    key = os.urandom(32)\n",
        "\n",
        "    # Generating a random IV of length 16 or 12 based on the network status\n",
        "    if(network_status == 0):\n",
        "        iv = os.urandom(16)\n",
        "    else:\n",
        "        iv = os.urandom(12)\n",
        "\n",
        "\n",
        "    ciphertext, tag, padding_length, salt = DynamicEncryption.encrypt(message, key, iv, dynamic_encryption=network_status==1)\n",
        "    plaintext = DynamicEncryption.decrypt(ciphertext, key, iv, dynamic_encryption=network_status==1, tag=tag, padding_length=padding_length, salt=salt)\n",
        "\n",
        "    # Printing the necessary information for the user\n",
        "    print(\"Network Status:\", \"Under Attack\" if network_status == 1 else \"Normal\")\n",
        "\n",
        "    print(\"Original message:\", message.decode())\n",
        "\n",
        "    print(\"Encrypted message:\", ciphertext.hex())\n",
        "\n",
        "    if(network_status == 1):\n",
        "        print(\"Tag:\", tag.hex())\n",
        "        print(\"Salt:\", salt.hex())\n",
        "\n",
        "    print(\"Decrypted message:\", plaintext.decode())\n",
        "\n",
        "\n",
        "#Input the network parameters\n",
        "encryption_system([300, 25], rf_model)\n"
      ],
      "metadata": {
        "colab": {
          "base_uri": "https://localhost:8080/"
        },
        "id": "7W0Qm9O9FEx9",
        "outputId": "004d99e5-16c7-4a1c-bdde-f51c8a3161a8"
      },
      "execution_count": null,
      "outputs": [
        {
          "output_type": "stream",
          "name": "stderr",
          "text": [
            "/usr/local/lib/python3.10/dist-packages/sklearn/base.py:493: UserWarning: X does not have valid feature names, but RandomForestClassifier was fitted with feature names\n",
            "  warnings.warn(\n"
          ]
        },
        {
          "output_type": "stream",
          "name": "stdout",
          "text": [
            "Enter your message for encryption: Hello\n",
            "Network Status: Under Attack\n",
            "Original message: Hello\n",
            "Encrypted message: 2cb78798f6675f6ab17b7904144dc6c70e02341f\n",
            "Tag: efedf39579b4acf8c76af1c3a0895fb5\n",
            "Salt: e39d4d879cf9e1bdaf49229cdbc811d7\n",
            "Decrypted message: Hello\n"
          ]
        }
      ]
    }
  ]
}